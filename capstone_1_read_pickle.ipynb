{
 "cells": [
  {
   "cell_type": "code",
   "execution_count": 4,
   "metadata": {
    "collapsed": true
   },
   "outputs": [],
   "source": [
    "import numpy as np\n",
    "import tensorflow as tf\n",
    "import pandas as pd"
   ]
  },
  {
   "cell_type": "code",
   "execution_count": 8,
   "metadata": {
    "collapsed": false
   },
   "outputs": [],
   "source": [
    "f=open('./data/test.ft.txt','r',encoding=\"utf8\")\n",
    "txt=f.read()\n",
    "f.close()"
   ]
  },
  {
   "cell_type": "code",
   "execution_count": 46,
   "metadata": {
    "collapsed": false
   },
   "outputs": [],
   "source": [
    "test_df_dict={'text':[],'label':[]}\n",
    "j=0\n",
    "for i in range(len(txt)):\n",
    "    if txt[i]=='\\n':\n",
    "        label=int(txt[j+9])\n",
    "        comment_txt=txt[j+10:i-1]\n",
    "        #print(label)\n",
    "        #print(comment_txt)\n",
    "        j=i+1\n",
    "        test_df_dict['text'].append(comment_txt)\n",
    "        test_df_dict['label'].append(label)\n",
    "test_df=pd.DataFrame(data=test_df_dict)        \n",
    "test_df.to_pickle('./data/test_df.pickle')"
   ]
  },
  {
   "cell_type": "code",
   "execution_count": 49,
   "metadata": {
    "collapsed": false
   },
   "outputs": [],
   "source": [
    "f=open('./data/train.ft.txt','r',encoding=\"utf8\")\n",
    "txt=f.read()\n",
    "f.close()\n",
    "train_df_dict={'text':[],'label':[]}\n",
    "j=0\n",
    "for i in range(len(txt)):\n",
    "    if txt[i]=='\\n':\n",
    "        label=int(txt[j+9])\n",
    "        comment_txt=txt[j+10:i-1]\n",
    "        #print(label)\n",
    "        #print(comment_txt)\n",
    "        j=i+1\n",
    "        train_df_dict['text'].append(comment_txt)\n",
    "        train_df_dict['label'].append(label)\n"
   ]
  },
  {
   "cell_type": "code",
   "execution_count": 51,
   "metadata": {
    "collapsed": false
   },
   "outputs": [],
   "source": [
    "train_df=pd.DataFrame(data=train_df_dict)        \n",
    "train_df.to_pickle('./data/train_df.pickle')"
   ]
  },
  {
   "cell_type": "code",
   "execution_count": null,
   "metadata": {
    "collapsed": true
   },
   "outputs": [],
   "source": []
  }
 ],
 "metadata": {
  "kernelspec": {
   "display_name": "Python 3",
   "language": "python",
   "name": "python3"
  },
  "language_info": {
   "codemirror_mode": {
    "name": "ipython",
    "version": 3
   },
   "file_extension": ".py",
   "mimetype": "text/x-python",
   "name": "python",
   "nbconvert_exporter": "python",
   "pygments_lexer": "ipython3",
   "version": "3.5.2"
  }
 },
 "nbformat": 4,
 "nbformat_minor": 1
}
