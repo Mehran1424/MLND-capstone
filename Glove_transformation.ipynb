{
 "cells": [
  {
   "cell_type": "code",
   "execution_count": 1,
   "metadata": {},
   "outputs": [],
   "source": [
    "import numpy as np\n",
    "import io\n",
    "from tqdm import tqdm"
   ]
  },
  {
   "cell_type": "code",
   "execution_count": 17,
   "metadata": {},
   "outputs": [
    {
     "name": "stderr",
     "output_type": "stream",
     "text": [
      "1917494it [05:11, 6150.44it/s]\n"
     ]
    }
   ],
   "source": [
    "fin = io.open('./data/glove.42B.300d.txt', 'r', encoding='utf-8', newline='\\n', errors='ignore')\n",
    "word_dict = {'rare_word':0}\n",
    "n=1917494\n",
    "d=300\n",
    "word_vectors=np.zeros((n+1,d))\n",
    "#word_vectors=np.zeros((14,d))\n",
    "line_n=0\n",
    "for i,line in tqdm(enumerate(fin)):\n",
    "    tokens = line.rstrip().split(' ')\n",
    "    word=tokens[0]\n",
    "    vector=[float(j) for j in tokens[1:]]\n",
    "    word_vectors[i+1,:]=vector\n",
    "    word_dict[word]=i+1\n",
    "fin.close()"
   ]
  },
  {
   "cell_type": "code",
   "execution_count": 23,
   "metadata": {},
   "outputs": [],
   "source": [
    "reverse_dict={v: k for k, v in word_dict.items()}"
   ]
  },
  {
   "cell_type": "code",
   "execution_count": 24,
   "metadata": {},
   "outputs": [],
   "source": [
    "np.savez('./data/GLOVE_1p9M.npz',word_vectors,word_dict,reverse_dict)"
   ]
  },
  {
   "cell_type": "code",
   "execution_count": null,
   "metadata": {},
   "outputs": [],
   "source": []
  }
 ],
 "metadata": {
  "kernelspec": {
   "display_name": "Python 3",
   "language": "python",
   "name": "python3"
  },
  "language_info": {
   "codemirror_mode": {
    "name": "ipython",
    "version": 3
   },
   "file_extension": ".py",
   "mimetype": "text/x-python",
   "name": "python",
   "nbconvert_exporter": "python",
   "pygments_lexer": "ipython3",
   "version": "3.5.2"
  }
 },
 "nbformat": 4,
 "nbformat_minor": 2
}
