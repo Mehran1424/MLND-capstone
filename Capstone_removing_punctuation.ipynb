{
 "cells": [
  {
   "cell_type": "code",
   "execution_count": 1,
   "metadata": {},
   "outputs": [],
   "source": [
    "import numpy as np\n",
    "import pandas as pd\n",
    "from tqdm import tqdm"
   ]
  },
  {
   "cell_type": "code",
   "execution_count": 2,
   "metadata": {},
   "outputs": [],
   "source": [
    "train_df=pd.read_pickle('./data/train_df.pickle')\n",
    "test_df=pd.read_pickle('./data/test_df.pickle')"
   ]
  },
  {
   "cell_type": "code",
   "execution_count": 4,
   "metadata": {},
   "outputs": [],
   "source": [
    "def find(s, ch):\n",
    "    return [i for i, ltr in enumerate(s) if ltr == ch]\n",
    "punc_list=['.',',','/','!','?',':',';','^','&','(',')',\"'\",'\"','_','~']"
   ]
  },
  {
   "cell_type": "code",
   "execution_count": 53,
   "metadata": {},
   "outputs": [
    {
     "name": "stderr",
     "output_type": "stream",
     "text": [
      "100%|█████████████████████████████| 3600000/3600000 [05:22<00:00, 11149.29it/s]\n"
     ]
    }
   ],
   "source": [
    "\n",
    "train_df_dict_nopunc={'text':[],'label':[]}\n",
    "for i in tqdm(range(len(train_df['text']))):\n",
    "    comment=train_df['text'][i]\n",
    "    comment_nopunc=comment\n",
    "    label=train_df['label'][i]\n",
    "    for j in range(len(punc_list)):\n",
    "        comment_nopunc=comment_nopunc.replace(punc_list[j],' ')\n",
    "    train_df_dict_nopunc['text'].append(comment_nopunc)\n",
    "    train_df_dict_nopunc['label'].append(label)\n"
   ]
  },
  {
   "cell_type": "code",
   "execution_count": 5,
   "metadata": {},
   "outputs": [
    {
     "name": "stderr",
     "output_type": "stream",
     "text": [
      "100%|███████████████████████████████| 400000/400000 [00:22<00:00, 17788.25it/s]\n"
     ]
    }
   ],
   "source": [
    "test_df_dict_nopunc={'text':[],'label':[]}\n",
    "for i in tqdm(range(len(test_df['text']))):\n",
    "    comment=test_df['text'][i]\n",
    "    comment_nopunc=comment\n",
    "    label=test_df['label'][i]\n",
    "    for j in range(len(punc_list)):\n",
    "        comment_nopunc=comment_nopunc.replace(punc_list[j],' ')\n",
    "    test_df_dict_nopunc['text'].append(comment_nopunc)\n",
    "    test_df_dict_nopunc['label'].append(label)"
   ]
  },
  {
   "cell_type": "code",
   "execution_count": 55,
   "metadata": {},
   "outputs": [],
   "source": [
    "train_df_nopunc=pd.DataFrame(data=train_df_dict_nopunc)        \n",
    "train_df_nopunc.to_pickle('./data/train_df_nopunc.pickle')\n"
   ]
  },
  {
   "cell_type": "code",
   "execution_count": 6,
   "metadata": {},
   "outputs": [],
   "source": [
    "test_df_nopunc=pd.DataFrame(data=test_df_dict_nopunc)        \n",
    "test_df_nopunc.to_pickle('./data/test_df_nopunc.pickle')"
   ]
  },
  {
   "cell_type": "code",
   "execution_count": null,
   "metadata": {},
   "outputs": [],
   "source": []
  }
 ],
 "metadata": {
  "kernelspec": {
   "display_name": "Python 3",
   "language": "python",
   "name": "python3"
  },
  "language_info": {
   "codemirror_mode": {
    "name": "ipython",
    "version": 3
   },
   "file_extension": ".py",
   "mimetype": "text/x-python",
   "name": "python",
   "nbconvert_exporter": "python",
   "pygments_lexer": "ipython3",
   "version": "3.5.2"
  }
 },
 "nbformat": 4,
 "nbformat_minor": 2
}
