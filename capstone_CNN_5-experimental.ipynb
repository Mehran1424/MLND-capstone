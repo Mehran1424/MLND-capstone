{
 "cells": [
  {
   "cell_type": "code",
   "execution_count": 1,
   "metadata": {},
   "outputs": [],
   "source": [
    "import numpy as np\n",
    "import pandas as pd\n",
    "import random\n",
    "import tensorflow as tf\n",
    "from tqdm import tqdm\n",
    "from sklearn.metrics import accuracy_score\n",
    "from sklearn.metrics import average_precision_score\n",
    "from sklearn.metrics import recall_score\n",
    "from sklearn.metrics import f1_score"
   ]
  },
  {
   "cell_type": "code",
   "execution_count": 2,
   "metadata": {},
   "outputs": [],
   "source": [
    "#train_df=pd.read_pickle('./data/train_df.pickle')\n",
    "#test_df=pd.read_pickle('./data/test_df.pickle')\n",
    "train_df=pd.read_pickle('./data/train_df_nopunc.pickle')\n",
    "test_df=pd.read_pickle('./data/test_df_nopunc.pickle')"
   ]
  },
  {
   "cell_type": "code",
   "execution_count": 3,
   "metadata": {},
   "outputs": [
    {
     "name": "stderr",
     "output_type": "stream",
     "text": [
      "100%|████████████████████████████| 3600000/3600000 [00:26<00:00, 134838.57it/s]\n"
     ]
    }
   ],
   "source": [
    "comment_lengths=list()\n",
    "comment_list=train_df['text'].tolist()\n",
    "for i in tqdm(range(len(comment_list))):\n",
    "    comment=comment_list[i]\n",
    "    temp1=len(comment.split())\n",
    "    comment_lengths.append(temp1)\n",
    "\n",
    "    "
   ]
  },
  {
   "cell_type": "code",
   "execution_count": 4,
   "metadata": {},
   "outputs": [
    {
     "name": "stderr",
     "output_type": "stream",
     "text": [
      "100%|██████████████████████████████| 400000/400000 [00:03<00:00, 131573.67it/s]\n"
     ]
    }
   ],
   "source": [
    "comment_lengths_test=list()\n",
    "comment_list_test=test_df['text'].tolist()\n",
    "for i in tqdm(range(len(comment_list_test))):\n",
    "    comment=comment_list_test[i]\n",
    "    temp1=len(comment.split())\n",
    "    comment_lengths_test.append(temp1)"
   ]
  },
  {
   "cell_type": "code",
   "execution_count": 5,
   "metadata": {},
   "outputs": [],
   "source": [
    "#word2vec_simple_from_tf=np.load('./data/word2vec_simple.npz')\n",
    "word2vec_simple_from_tf=np.load('./data/word2vec_1M_FT.npz')\n"
   ]
  },
  {
   "cell_type": "code",
   "execution_count": 6,
   "metadata": {},
   "outputs": [],
   "source": [
    "embeddings=word2vec_simple_from_tf['arr_0']\n",
    "word_dict=word2vec_simple_from_tf['arr_1'].tolist()\n",
    "reverse_dict=word2vec_simple_from_tf['arr_2'].tolist()\n",
    "embedding_size=embeddings.shape[1]\n",
    "comment_vector_size=embedding_size*max(comment_lengths)\n",
    "num_comments=len(comment_list)\n",
    "train_labels=(train_df['label']).tolist()\n",
    "n_embeddings,d_embeddings=embeddings.shape"
   ]
  },
  {
   "cell_type": "code",
   "execution_count": 7,
   "metadata": {},
   "outputs": [
    {
     "name": "stderr",
     "output_type": "stream",
     "text": [
      "100%|█████████████████████████████| 3600000/3600000 [03:01<00:00, 19831.33it/s]\n"
     ]
    }
   ],
   "source": [
    "comments_with_word_indices=np.zeros(shape=(num_comments,max(comment_lengths)),dtype='int32')\n",
    "for i in tqdm(range(len(comment_list))):\n",
    "    comment=comment_list[i]\n",
    "    comment_words=comment.split()\n",
    "    for j,word in enumerate(comment_words):\n",
    "        comments_with_word_indices[i,j]=word_dict.get(word,0)"
   ]
  },
  {
   "cell_type": "code",
   "execution_count": 8,
   "metadata": {},
   "outputs": [],
   "source": [
    "def generate_batch(batch_size):\n",
    "    batch_indices=random.sample(range(num_comments),batch_size)\n",
    "    batch_inputs=comments_with_word_indices[batch_indices,:]\n",
    "    batch_labels=np.reshape(np.asarray([train_labels[idx] for idx in batch_indices])-1,(batch_size,1))\n",
    "    return batch_inputs, batch_labels, batch_indices"
   ]
  },
  {
   "cell_type": "code",
   "execution_count": 9,
   "metadata": {},
   "outputs": [
    {
     "name": "stdout",
     "output_type": "stream",
     "text": [
      "28\n",
      "28\n",
      "[1]\n",
      "2\n"
     ]
    }
   ],
   "source": [
    "#sanity check\n",
    "a=generate_batch(2) \n",
    "b=a[0][0]\n",
    "index1=a[2][0]\n",
    "c=[o for o in b if o!=0]\n",
    "print(len(c))\n",
    "print(len(comment_list[index1].split()))\n",
    "label1=a[1][0]\n",
    "print(label1)\n",
    "print(train_df['label'][index1])\n"
   ]
  },
  {
   "cell_type": "code",
   "execution_count": 10,
   "metadata": {},
   "outputs": [
    {
     "name": "stderr",
     "output_type": "stream",
     "text": [
      "100%|███████████████████████████████| 400000/400000 [00:21<00:00, 18987.96it/s]\n"
     ]
    }
   ],
   "source": [
    "#creating test dataset\n",
    "num_comments_test=len(comment_list_test)\n",
    "test_labels=(test_df['label']-1).tolist()\n",
    "test_dataset=np.zeros((num_comments_test,max(comment_lengths)),dtype='int32')\n",
    "for i in tqdm(range(num_comments_test)):\n",
    "    comment=comment_list_test[i]\n",
    "    comment_as_word=comment.split()\n",
    "    for j,word in enumerate(comment_as_word):\n",
    "        word_index=word_dict.get(word,0)\n",
    "        test_dataset[i,j]=word_index"
   ]
  },
  {
   "cell_type": "code",
   "execution_count": 17,
   "metadata": {},
   "outputs": [
    {
     "name": "stdout",
     "output_type": "stream",
     "text": [
      "INFO:tensorflow:Restoring parameters from ./ckpt/CNN5_word2vec_1M_FT_experimental.ckpt\n",
      "initialized\n",
      "Step: 750 ,Average loss in 750 steps: 0.330 ,batch time: 0.26 ,Run time: 896.93 Batch Accuracy: 87.50 Valid accuracy: 83.00\n",
      "Step: 1500 ,Average loss in 750 steps: 0.295 ,batch time: 0.36 ,Run time: 870.80 Batch Accuracy: 90.62 Valid accuracy: 92.20\n",
      "Step: 2250 ,Average loss in 750 steps: 0.276 ,batch time: 0.16 ,Run time: 854.67 Batch Accuracy: 84.38 Valid accuracy: 89.00\n",
      "Step: 3000 ,Average loss in 750 steps: 0.261 ,batch time: 0.39 ,Run time: 852.95 Batch Accuracy: 84.38 Valid accuracy: 88.40\n",
      "Step: 3750 ,Average loss in 750 steps: 0.255 ,batch time: 0.20 ,Run time: 852.91 Batch Accuracy: 92.19 Valid accuracy: 89.40\n",
      "Step: 4500 ,Average loss in 750 steps: 0.238 ,batch time: 0.20 ,Run time: 852.72 Batch Accuracy: 90.62 Valid accuracy: 92.20\n",
      "Step: 5250 ,Average loss in 750 steps: 0.231 ,batch time: 0.19 ,Run time: 852.46 Batch Accuracy: 98.44 Valid accuracy: 92.40\n",
      "Step: 6000 ,Average loss in 750 steps: 0.228 ,batch time: 0.23 ,Run time: 853.44 Batch Accuracy: 93.75 Valid accuracy: 92.60\n",
      "Step: 6750 ,Average loss in 750 steps: 0.226 ,batch time: 0.23 ,Run time: 852.95 Batch Accuracy: 89.06 Valid accuracy: 92.00\n",
      "Step: 7500 ,Average loss in 750 steps: 0.217 ,batch time: 0.25 ,Run time: 853.17 Batch Accuracy: 95.31 Valid accuracy: 93.40\n",
      "Step: 8250 ,Average loss in 750 steps: 0.216 ,batch time: 0.30 ,Run time: 853.37 Batch Accuracy: 93.75 Valid accuracy: 93.00\n",
      "Step: 9000 ,Average loss in 750 steps: 0.209 ,batch time: 0.31 ,Run time: 854.01 Batch Accuracy: 90.62 Valid accuracy: 92.00\n",
      "Step: 9750 ,Average loss in 750 steps: 0.204 ,batch time: 0.27 ,Run time: 853.40 Batch Accuracy: 89.06 Valid accuracy: 92.40\n",
      "Step: 10500 ,Average loss in 750 steps: 0.200 ,batch time: 0.17 ,Run time: 854.42 Batch Accuracy: 93.75 Valid accuracy: 92.60\n",
      "Step: 11250 ,Average loss in 750 steps: 0.200 ,batch time: 0.14 ,Run time: 853.66 Batch Accuracy: 92.19 Valid accuracy: 91.80\n",
      "Step: 12000 ,Average loss in 750 steps: 0.195 ,batch time: 0.25 ,Run time: 852.31 Batch Accuracy: 87.50 Valid accuracy: 92.60\n",
      "Step: 12750 ,Average loss in 750 steps: 0.192 ,batch time: 0.33 ,Run time: 852.52 Batch Accuracy: 95.31 Valid accuracy: 92.60\n",
      "Step: 13500 ,Average loss in 750 steps: 0.192 ,batch time: 0.11 ,Run time: 852.77 Batch Accuracy: 89.06 Valid accuracy: 93.20\n",
      "Step: 14250 ,Average loss in 750 steps: 0.190 ,batch time: 0.23 ,Run time: 852.50 Batch Accuracy: 92.19 Valid accuracy: 93.20\n",
      "Step: 15000 ,Average loss in 750 steps: 0.190 ,batch time: 0.24 ,Run time: 853.39 Batch Accuracy: 96.88 Valid accuracy: 93.20\n",
      "Model saved!\n"
     ]
    }
   ],
   "source": [
    "import time\n",
    "num_steps=15001\n",
    "batch_size=64\n",
    "graph=tf.Graph()\n",
    "batch_timing=0\n",
    "run_timing=0\n",
    "num_filters_l1=200\n",
    "num_filters_l2=100\n",
    "num_filters_l3=50\n",
    "num_filters_l4=20\n",
    "kernel_size_l1=5\n",
    "kernel_size_l2=4\n",
    "kernel_size_l3=3\n",
    "kernel_size_l4=2\n",
    "restore_sess=1\n",
    "test_batch_size=int(num_comments_test/100)\n",
    "validation_batch_size=500\n",
    "\n",
    "#model_name=\"./ckpt/LR_word2vec.ckpt\"\n",
    "model_name=\"./ckpt/CNN5_word2vec_1M_FT_experimental.ckpt\"\n",
    "steps_display=min(int((num_steps-1)/20),1000)\n",
    "with graph.as_default():\n",
    "    inputs=tf.placeholder(tf.int32, shape=(batch_size,max(comment_lengths)))\n",
    "    test_inputs=tf.placeholder(tf.int32, shape=(test_batch_size,max(comment_lengths)))\n",
    "    validation_inputs=tf.placeholder(tf.int32, shape=(validation_batch_size,max(comment_lengths)))\n",
    "    labels=tf.placeholder(tf.float32, shape=(batch_size,1))\n",
    "    embedding_matrix=tf.placeholder(tf.float32, shape=(n_embeddings,d_embeddings))\n",
    "    layer1_weights=tf.Variable(tf.truncated_normal([kernel_size_l1,d_embeddings,num_filters_l1],stddev=0.1))\n",
    "    layer2_weights=tf.Variable(tf.truncated_normal([kernel_size_l2,num_filters_l1,num_filters_l2],stddev=0.1))\n",
    "    layer3_weights=tf.Variable(tf.truncated_normal([kernel_size_l3,num_filters_l2,num_filters_l3],stddev=0.1))\n",
    "    layer4_weights=tf.Variable(tf.truncated_normal([kernel_size_l4,num_filters_l3,num_filters_l4],stddev=0.1))\n",
    "    \n",
    "    \n",
    "    hidden_weights=tf.Variable(tf.truncated_normal([max(comment_lengths)*num_filters_l4,1],stddev=0.1))\n",
    "    hidden_biases=tf.Variable(tf.constant(1.0, shape=[1]))\n",
    "    \n",
    "    def model_graph(data):\n",
    "        batch_embeddings=tf.nn.embedding_lookup(embedding_matrix,data)\n",
    "        conv1=tf.nn.conv1d(batch_embeddings,layer1_weights,stride=1,padding='SAME')\n",
    "        conv1=tf.nn.relu(conv1)\n",
    "        conv2=tf.nn.conv1d(conv1,layer2_weights,stride=1,padding='SAME')\n",
    "        conv2=tf.nn.relu(conv2)\n",
    "        conv3=tf.nn.conv1d(conv2,layer3_weights,stride=1,padding='SAME')\n",
    "        conv3=tf.nn.relu(conv3)\n",
    "        conv4=tf.nn.conv1d(conv3,layer4_weights,stride=1,padding='SAME')\n",
    "        conv4=tf.nn.relu(conv4)\n",
    "        shape=conv4.get_shape().as_list()\n",
    "        conv4=tf.reshape(conv4,[shape[0],shape[1],shape[2],1])\n",
    "        pool3=tf.nn.max_pool(conv4,[1,1,num_filters_l4,1],strides=[1,1,1,1],padding='SAME')\n",
    "        shape=pool3.get_shape().as_list()\n",
    "        flat1=tf.reshape(pool3,[shape[0],shape[1]*shape[2]*shape[3]])\n",
    "        flat1=tf.nn.dropout(flat1,keep_prob=0.5)\n",
    "        y_pred_model=tf.matmul(flat1,hidden_weights)+hidden_biases\n",
    "        return y_pred_model\n",
    "    \n",
    "    y_pred=model_graph(inputs)\n",
    "    y_pred_test=model_graph(test_inputs)\n",
    "    y_pred_validation=model_graph(validation_inputs)\n",
    "    test_predictions=tf.round(tf.sigmoid(y_pred_test))\n",
    "    validation_predictions=tf.round(tf.sigmoid(y_pred_validation))\n",
    "    train_predictions=tf.round(tf.sigmoid(y_pred))\n",
    "    x_entropy=tf.nn.sigmoid_cross_entropy_with_logits(logits=y_pred,labels=labels)\n",
    "    loss =tf.reduce_mean(x_entropy)\n",
    "    optimizer = tf.train.AdamOptimizer().minimize(loss)\n",
    "    init = tf.global_variables_initializer()\n",
    "    saver=tf.train.Saver()\n",
    "\n",
    "sess=tf.Session(graph=graph)\n",
    "with sess.as_default():\n",
    "    init.run()\n",
    "    if restore_sess==1:\n",
    "        try:\n",
    "            saver.restore(sess,model_name)\n",
    "        except:\n",
    "            print('Unexpected Error: model cannot be restored')\n",
    "    print('initialized')\n",
    "    loss_val_sum=0\n",
    "    for i in range(num_steps):\n",
    "        time1=time.time()\n",
    "        batch_inputs,batch_labels,_=generate_batch(batch_size)\n",
    "        time2=time.time()\n",
    "        feed_dict={inputs:batch_inputs,labels:batch_labels,embedding_matrix:embeddings}\n",
    "        _,loss_val,train_preds=sess.run([optimizer,loss,train_predictions],feed_dict=feed_dict)\n",
    "        time3=time.time()\n",
    "        batch_timing += time2-time1\n",
    "        run_timing += time3-time2\n",
    "        loss_val_sum += loss_val\n",
    "        if i % steps_display==0 and i!=0:\n",
    "            validation_batch,validation_labels,_=generate_batch(validation_batch_size)\n",
    "            #validation_batch=batch_inputs\n",
    "            #validation_labels=batch_labels\n",
    "            validation_preds=sess.run(validation_predictions,\n",
    "                                      feed_dict={validation_inputs:validation_batch,embedding_matrix:embeddings})            \n",
    "            print('Step:',i,\n",
    "                  ',Average loss in',steps_display, 'steps:',\"{0:.3f}\".format(loss_val_sum/steps_display),',batch time:'\n",
    "                  ,\"{0:.2f}\".format(batch_timing),',Run time:',\"{0:.2f}\".format(run_timing)\n",
    "                  ,'Batch Accuracy:', \"{:4.2f}\".format(100*accuracy_score(batch_labels,train_preds))\n",
    "                  ,'Valid accuracy:',\"{:4.2f}\".format(100*accuracy_score(validation_labels,validation_preds)))\n",
    "            batch_timing=0\n",
    "            run_timing=0\n",
    "            loss_val_sum=0\n",
    "    try:\n",
    "        saver.save(sess,model_name)\n",
    "        print('Model saved!')\n",
    "    except:\n",
    "        print('Model could not be saved')"
   ]
  },
  {
   "cell_type": "code",
   "execution_count": 18,
   "metadata": {},
   "outputs": [
    {
     "name": "stdout",
     "output_type": "stream",
     "text": [
      "INFO:tensorflow:Restoring parameters from ./ckpt/CNN5_word2vec_1M_FT_experimental.ckpt\n",
      "initialized\n"
     ]
    },
    {
     "name": "stderr",
     "output_type": "stream",
     "text": [
      "100%|████████████████████████████████████████| 100/100 [29:39<00:00, 17.80s/it]\n"
     ]
    }
   ],
   "source": [
    "with sess.as_default():\n",
    "    init.run()\n",
    "    try:\n",
    "        saver.restore(sess,model_name)\n",
    "    except:\n",
    "        print('Unexpected Error: model cannot be restored')\n",
    "    print('initialized')\n",
    "    y_pred=np.zeros((num_comments_test,1))\n",
    "    for i in tqdm(range(int(num_comments_test/test_batch_size))):\n",
    "        test_batch=test_dataset[i*test_batch_size:(i+1)*test_batch_size,:]\n",
    "        y_pred_batch=test_predictions.eval(feed_dict={test_inputs:test_batch,embedding_matrix:embeddings})\n",
    "        y_pred[i*test_batch_size:(i+1)*test_batch_size,:]=y_pred_batch"
   ]
  },
  {
   "cell_type": "code",
   "execution_count": 19,
   "metadata": {},
   "outputs": [
    {
     "name": "stdout",
     "output_type": "stream",
     "text": [
      "Accuracy: 92.38%, Precision: 88.08%, Recall: 95.58%, F1_score: 92.62%\n"
     ]
    }
   ],
   "source": [
    "y_true=test_labels\n",
    "accuracy=accuracy_score(y_true,y_pred)\n",
    "precision=average_precision_score(y_true,y_pred)\n",
    "recall=recall_score(y_true,y_pred)\n",
    "f1=f1_score(y_true,y_pred)\n",
    "print('Accuracy: {:4.2f}%, Precision: {:4.2f}%, Recall: {:4.2f}%, F1_score: {:4.2f}%'.format(accuracy*100,precision*100,recall*100,f1*100))"
   ]
  },
  {
   "cell_type": "code",
   "execution_count": 27,
   "metadata": {},
   "outputs": [
    {
     "name": "stdout",
     "output_type": "stream",
     "text": [
      "INFO:tensorflow:Restoring parameters from ./ckpt/Lockbox/CNN5_word2vec_1M_FT_experimental.ckpt\n",
      "initialized\n"
     ]
    },
    {
     "name": "stderr",
     "output_type": "stream",
     "text": [
      "100%|████████████████████████████████████████| 100/100 [14:11<00:00,  8.51s/it]\n"
     ]
    }
   ],
   "source": [
    "#comparing with the lockbox version\n",
    "with sess.as_default():\n",
    "    init.run()\n",
    "    try:\n",
    "        saver.restore(sess,\"./ckpt/Lockbox/CNN5_word2vec_1M_FT_experimental.ckpt\")\n",
    "    except:\n",
    "        print('Unexpected Error: model cannot be restored')\n",
    "    print('initialized')\n",
    "    y_pred=np.zeros((num_comments_test,1))\n",
    "    for i in tqdm(range(int(num_comments_test/test_batch_size))):\n",
    "        test_batch=test_dataset[i*test_batch_size:(i+1)*test_batch_size,:]\n",
    "        y_pred_batch=test_predictions.eval(feed_dict={test_inputs:test_batch,embedding_matrix:embeddings})\n",
    "        y_pred[i*test_batch_size:(i+1)*test_batch_size,:]=y_pred_batch"
   ]
  },
  {
   "cell_type": "code",
   "execution_count": 28,
   "metadata": {},
   "outputs": [
    {
     "name": "stdout",
     "output_type": "stream",
     "text": [
      "Accuracy: 92.19%, Precision: 88.41%, Recall: 93.60%, F1_score: 92.30%\n"
     ]
    }
   ],
   "source": [
    "y_true=test_labels\n",
    "accuracy=accuracy_score(y_true,y_pred)\n",
    "precision=average_precision_score(y_true,y_pred)\n",
    "recall=recall_score(y_true,y_pred)\n",
    "f1=f1_score(y_true,y_pred)\n",
    "print('Accuracy: {:4.2f}%, Precision: {:4.2f}%, Recall: {:4.2f}%, F1_score: {:4.2f}%'.format(accuracy*100,precision*100,recall*100,f1*100))"
   ]
  },
  {
   "cell_type": "code",
   "execution_count": 37,
   "metadata": {},
   "outputs": [
    {
     "data": {
      "image/png": "[encoded data removed]",
      "text/plain": [
       "<matplotlib.figure.Figure at 0x150a28ef0>"
      ]
     },
     "metadata": {},
     "output_type": "display_data"
    }
   ],
   "source": [
    "import matplotlib.pyplot as plt\n",
    "%matplotlib inline\n",
    "plt.xlabel('Length in Words')\n",
    "plt.ylabel('Number of Comments')\n",
    "plt.hist(comment_lengths+comment_lengths_test,bins=50)\n",
    "plt.savefig('comment_lengths.png',bbox_inches ='tight')"
   ]
  },
  {
   "cell_type": "code",
   "execution_count": 24,
   "metadata": {},
   "outputs": [
    {
     "name": "stdout",
     "output_type": "stream",
     "text": [
      "2000000 2000000\n"
     ]
    }
   ],
   "source": [
    "labels=(test_df['label']-1).tolist()+(train_df['label']-1).tolist()\n",
    "pos=labels.count(1)\n",
    "neg=labels.count(0)\n",
    "print(pos,neg)"
   ]
  },
  {
   "cell_type": "code",
   "execution_count": null,
   "metadata": {},
   "outputs": [],
   "source": []
  }
 ],
 "metadata": {
  "kernelspec": {
   "display_name": "Python 3",
   "language": "python",
   "name": "python3"
  },
  "language_info": {
   "codemirror_mode": {
    "name": "ipython",
    "version": 3
   },
   "file_extension": ".py",
   "mimetype": "text/x-python",
   "name": "python",
   "nbconvert_exporter": "python",
   "pygments_lexer": "ipython3",
   "version": "3.5.2"
  }
 },
 "nbformat": 4,
 "nbformat_minor": 1
}
