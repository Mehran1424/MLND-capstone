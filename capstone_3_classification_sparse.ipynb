{
 "cells": [
  {
   "cell_type": "code",
   "execution_count": 1,
   "metadata": {},
   "outputs": [],
   "source": [
    "import numpy as np\n",
    "import pandas as pd\n",
    "import scipy.sparse\n",
    "punc=0"
   ]
  },
  {
   "cell_type": "code",
   "execution_count": 2,
   "metadata": {},
   "outputs": [],
   "source": [
    "if punc==1:\n",
    "    vectors_train=scipy.sparse.load_npz('./data/train_sparse.npz')\n",
    "    labels_train=np.load('./data/train_label.npz')['arr_0']\n",
    "    vectors_test=scipy.sparse.load_npz('./data/test_sparse.npz')\n",
    "    labels_test=np.load('./data/test_label.npz')['arr_0']\n",
    "else:\n",
    "    vectors_train=scipy.sparse.load_npz('./data/train_sparse_nopunc.npz')\n",
    "    labels_train=np.load('./data/train_label_nopunc.npz')['arr_0']\n",
    "    vectors_test=scipy.sparse.load_npz('./data/test_sparse_nopunc.npz')\n",
    "    labels_test=np.load('./data/test_label_nopunc.npz')['arr_0']    "
   ]
  },
  {
   "cell_type": "code",
   "execution_count": 3,
   "metadata": {},
   "outputs": [
    {
     "data": {
      "text/plain": [
       "LogisticRegression(C=1.0, class_weight=None, dual=False, fit_intercept=True,\n",
       "          intercept_scaling=1, max_iter=100, multi_class='ovr', n_jobs=1,\n",
       "          penalty='l2', random_state=None, solver='liblinear', tol=0.0001,\n",
       "          verbose=0, warm_start=False)"
      ]
     },
     "execution_count": 3,
     "metadata": {},
     "output_type": "execute_result"
    }
   ],
   "source": [
    "from sklearn.linear_model import LogisticRegression\n",
    "LR=LogisticRegression()\n",
    "LR.fit(vectors_train,labels_train)"
   ]
  },
  {
   "cell_type": "code",
   "execution_count": 4,
   "metadata": {},
   "outputs": [],
   "source": [
    "y_pred=LR.predict(vectors_test)-1\n",
    "y_true=labels_test-1"
   ]
  },
  {
   "cell_type": "code",
   "execution_count": 5,
   "metadata": {},
   "outputs": [
    {
     "name": "stdout",
     "output_type": "stream",
     "text": [
      "Accuracy: 90.89%, Precision: 87.15%, Recall: 90.96%, F1_score: 90.90%\n"
     ]
    }
   ],
   "source": [
    "from sklearn.metrics import accuracy_score\n",
    "from sklearn.metrics import average_precision_score\n",
    "from sklearn.metrics import recall_score\n",
    "from sklearn.metrics import f1_score\n",
    "accuracy=accuracy_score(y_true,y_pred)\n",
    "precision=average_precision_score(y_true,y_pred)\n",
    "recall=recall_score(y_true,y_pred)\n",
    "f1_score=f1_score(y_true,y_pred)\n",
    "print('Accuracy: {:4.2f}%, Precision: {:4.2f}%, Recall: {:4.2f}%, F1_score: {:4.2f}%'.format(accuracy*100,precision*100,recall*100,f1_score*100))"
   ]
  }
 ],
 "metadata": {
  "kernelspec": {
   "display_name": "Python 3",
   "language": "python",
   "name": "python3"
  },
  "language_info": {
   "codemirror_mode": {
    "name": "ipython",
    "version": 3
   },
   "file_extension": ".py",
   "mimetype": "text/x-python",
   "name": "python",
   "nbconvert_exporter": "python",
   "pygments_lexer": "ipython3",
   "version": "3.5.2"
  }
 },
 "nbformat": 4,
 "nbformat_minor": 1
}
